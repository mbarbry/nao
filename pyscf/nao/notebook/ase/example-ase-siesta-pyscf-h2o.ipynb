{
 "cells": [
  {
   "cell_type": "code",
   "execution_count": 1,
   "metadata": {},
   "outputs": [
    {
     "data": {
      "text/html": [
       "<html>\n",
       "\n",
       " <head>\n",
       "\n",
       "  <title>ASE atomic visualization</title>\n",
       "\n",
       "  <link rel=\"stylesheet\" type=\"text/css\"\n",
       "\n",
       "   href=\"https://www.x3dom.org/x3dom/release/x3dom.css\">\n",
       "\n",
       "  </link>\n",
       "\n",
       "  <script type=\"text/javascript\"\n",
       "\n",
       "   src=\"https://www.x3dom.org/x3dom/release/x3dom.js\">\n",
       "\n",
       "  </script>\n",
       "\n",
       " </head>\n",
       "\n",
       " <body>\n",
       "\n",
       "  <X3D style=\"margin:0; padding:0; width:100%; height:100%; border:none;\">\n",
       "\n",
       "   <Scene>\n",
       "\n",
       "    <Transform translation=\"-0.76 0.59 0.00\">\n",
       "\n",
       "     <Shape>\n",
       "\n",
       "      <Appearance>\n",
       "\n",
       "       <Material diffuseColor=\"1.000 1.000 1.000\" specularColor=\"0.5 0.5 0.5\">\n",
       "\n",
       "       </Material>\n",
       "\n",
       "      </Appearance>\n",
       "\n",
       "      <Sphere radius=\"0.31\">\n",
       "\n",
       "      </Sphere>\n",
       "\n",
       "     </Shape>\n",
       "\n",
       "    </Transform>\n",
       "\n",
       "    <Transform translation=\"0.76 0.59 0.00\">\n",
       "\n",
       "     <Shape>\n",
       "\n",
       "      <Appearance>\n",
       "\n",
       "       <Material diffuseColor=\"1.000 1.000 1.000\" specularColor=\"0.5 0.5 0.5\">\n",
       "\n",
       "       </Material>\n",
       "\n",
       "      </Appearance>\n",
       "\n",
       "      <Sphere radius=\"0.31\">\n",
       "\n",
       "      </Sphere>\n",
       "\n",
       "     </Shape>\n",
       "\n",
       "    </Transform>\n",
       "\n",
       "    <Transform translation=\"0.00 0.00 0.00\">\n",
       "\n",
       "     <Shape>\n",
       "\n",
       "      <Appearance>\n",
       "\n",
       "       <Material diffuseColor=\"1.000 0.051 0.051\" specularColor=\"0.5 0.5 0.5\">\n",
       "\n",
       "       </Material>\n",
       "\n",
       "      </Appearance>\n",
       "\n",
       "      <Sphere radius=\"0.66\">\n",
       "\n",
       "      </Sphere>\n",
       "\n",
       "     </Shape>\n",
       "\n",
       "    </Transform>\n",
       "\n",
       "   </Scene>\n",
       "\n",
       "  </X3D>\n",
       "\n",
       " </body>\n",
       "\n",
       "</html>\n",
       "\n"
      ],
      "text/plain": [
       "<IPython.core.display.HTML object>"
      ]
     },
     "execution_count": 1,
     "metadata": {},
     "output_type": "execute_result"
    }
   ],
   "source": [
    "# import libraries and set up the molecule geometry\n",
    "\n",
    "from ase.units import Ry, eV, Ha\n",
    "from ase.calculators.siesta import Siesta\n",
    "from ase import Atoms\n",
    "import numpy as np\n",
    "import matplotlib.pyplot as plt\n",
    "\n",
    "H2O = Atoms('H2O', positions = [[-0.757,  0.586,  0.000],\n",
    "                                [0.757,  0.586,  0.000],\n",
    "                                [0.0, 0.0, 0.0]],\n",
    "            cell=[20, 20, 20])\n",
    "\n",
    "# visualization of the particle\n",
    "from ase.visualize import view\n",
    "view(H2O, viewer='x3d')"
   ]
  },
  {
   "cell_type": "code",
   "execution_count": 2,
   "metadata": {},
   "outputs": [],
   "source": [
    "# enter siesta input and run siesta\n",
    "siesta = Siesta(\n",
    "    mesh_cutoff=150 * Ry,\n",
    "    basis_set='DZP',\n",
    "    pseudo_qualifier='lda',\n",
    "    energy_shift=(10 * 10**-3) * eV,\n",
    "    fdf_arguments={\n",
    "        'SCFMustConverge': False,\n",
    "        'COOP.Write': True,\n",
    "        'WriteDenchar': True,\n",
    "        'PAO.BasisType': 'split',\n",
    "        'DM.Tolerance': 1e-4,\n",
    "        'DM.MixingWeight': 0.01,\n",
    "        'MaxSCFIterations': 300,\n",
    "        'DM.NumberPulay': 4,\n",
    "        'XML.Write': True})\n",
    "\n",
    "H2O.set_calculator(siesta)\n",
    "e = H2O.get_potential_energy()"
   ]
  },
  {
   "cell_type": "code",
   "execution_count": 3,
   "metadata": {},
   "outputs": [
    {
     "name": "stderr",
     "output_type": "stream",
     "text": [
      "/opt/conda/lib/python3.6/site-packages/h5py/__init__.py:36: FutureWarning: Conversion of the second argument of issubdtype from `float` to `np.floating` is deprecated. In future, it will be treated as `np.float64 == np.dtype(float).type`.\n",
      "  from ._conv import register_converters as _register_converters\n"
     ]
    }
   ],
   "source": [
    "# compute polarizability using pyscf-nao\n",
    "\n",
    "freq, noninpol, pol = siesta.get_polarizability_pyscf_inter(label=\"siesta\", jcutoff=7, iter_broadening=0.15/Ha,\n",
    "        xc_code='LDA,PZ', tol_loc=1e-6, tol_biloc=1e-7, freq = np.arange(0.0, 15.0, 0.05))"
   ]
  },
  {
   "cell_type": "code",
   "execution_count": 4,
   "metadata": {},
   "outputs": [
    {
     "data": {
      "image/png": "[encoded data removed]",
      "text/plain": [
       "<matplotlib.figure.Figure at 0x7fb22e33cb38>"
      ]
     },
     "metadata": {},
     "output_type": "display_data"
    }
   ],
   "source": [
    "# plot polarizability with matplotlib\n",
    "\n",
    "fig = plt.figure(1)\n",
    "ax1 = fig.add_subplot(121)\n",
    "ax2 = fig.add_subplot(122)\n",
    "ax1.plot(freq, noninpol[:, 0, 0].imag)\n",
    "ax2.plot(freq, pol[:, 0, 0].imag)\n",
    "\n",
    "ax1.set_xlabel(r\"$\\omega$ (eV)\")\n",
    "ax2.set_xlabel(r\"$\\omega$ (eV)\")\n",
    "\n",
    "ax1.set_ylabel(r\"Im($P_{xx}$) (au)\")\n",
    "ax2.set_ylabel(r\"Im($P_{xx}$) (au)\")\n",
    "\n",
    "ax1.set_title(r\"Non interacting\")\n",
    "ax2.set_title(r\"Interacting\")\n",
    "\n",
    "fig.tight_layout()"
   ]
  },
  {
   "cell_type": "code",
   "execution_count": 5,
   "metadata": {},
   "outputs": [
    {
     "ename": "ModuleNotFoundError",
     "evalue": "No module named 'plotly'",
     "output_type": "error",
     "traceback": [
      "\u001b[0;31m---------------------------------------------------------------------------\u001b[0m",
      "\u001b[0;31mModuleNotFoundError\u001b[0m                       Traceback (most recent call last)",
      "\u001b[0;32m<ipython-input-5-2a29b55f00ac>\u001b[0m in \u001b[0;36m<module>\u001b[0;34m()\u001b[0m\n\u001b[1;32m      1\u001b[0m \u001b[0;31m# Even better with plotly\u001b[0m\u001b[0;34m\u001b[0m\u001b[0;34m\u001b[0m\u001b[0m\n\u001b[1;32m      2\u001b[0m \u001b[0;34m\u001b[0m\u001b[0m\n\u001b[0;32m----> 3\u001b[0;31m \u001b[0;32mimport\u001b[0m \u001b[0mplotly\u001b[0m\u001b[0;34m.\u001b[0m\u001b[0moffline\u001b[0m \u001b[0;32mas\u001b[0m \u001b[0mpy\u001b[0m\u001b[0;34m\u001b[0m\u001b[0m\n\u001b[0m\u001b[1;32m      4\u001b[0m \u001b[0;32mimport\u001b[0m \u001b[0mplotly\u001b[0m\u001b[0;34m.\u001b[0m\u001b[0mgraph_objs\u001b[0m \u001b[0;32mas\u001b[0m \u001b[0mgo\u001b[0m\u001b[0;34m\u001b[0m\u001b[0m\n\u001b[1;32m      5\u001b[0m \u001b[0;32mfrom\u001b[0m \u001b[0mplotly\u001b[0m \u001b[0;32mimport\u001b[0m \u001b[0mtools\u001b[0m\u001b[0;34m\u001b[0m\u001b[0m\n",
      "\u001b[0;31mModuleNotFoundError\u001b[0m: No module named 'plotly'"
     ]
    }
   ],
   "source": [
    "# Even better with plotly\n",
    "\n",
    "import plotly.offline as py\n",
    "import plotly.graph_objs as go\n",
    "from plotly import tools\n",
    "\n",
    "\n",
    "py.init_notebook_mode(connected=True)\n",
    "\n",
    "fig_plotly = tools.make_subplots(rows=1, cols=2, specs=[[{}, {}]],\n",
    "         subplot_titles=('Non interacting', 'interacting'))\n",
    "\n",
    "fig_plotly.append_trace(go.Scatter(x=freq,\n",
    "                y=noninpol[:, 0, 0].imag, name=\"Non interacting\",\n",
    "                mode = \"lines\",\n",
    "                line=dict(color=\"blue\", width=3)), 1, 1)\n",
    "\n",
    "fig_plotly.append_trace(go.Scatter(x=freq,\n",
    "                y=pol[:, 0, 0].imag, name=\"interacting\",\n",
    "                mode = \"lines\",\n",
    "                line=dict(color=\"red\", width=3)), 1, 2)\n",
    "\n",
    "fig_plotly['layout']['xaxis1'].update(title='Energy (eV)', titlefont={'size': 25}, tickfont={'size': 17})\n",
    "fig_plotly['layout']['xaxis2'].update(title='Energy (eV)', titlefont={'size': 25}, tickfont={'size': 17})\n",
    "\n",
    "fig_plotly['layout']['yaxis1'].update(title='Im(Pxx) (eV)', titlefont={'size': 25}, tickfont={'size': 17})\n",
    "\n",
    "py.iplot(fig_plotly, filename='pol_h2o.html')"
   ]
  },
  {
   "cell_type": "code",
   "execution_count": null,
   "metadata": {},
   "outputs": [],
   "source": []
  }
 ],
 "metadata": {
  "kernelspec": {
   "display_name": "Python 3",
   "language": "python",
   "name": "python3"
  },
  "language_info": {
   "codemirror_mode": {
    "name": "ipython",
    "version": 3
   },
   "file_extension": ".py",
   "mimetype": "text/x-python",
   "name": "python",
   "nbconvert_exporter": "python",
   "pygments_lexer": "ipython3",
   "version": "3.6.4"
  }
 },
 "nbformat": 4,
 "nbformat_minor": 2
}
